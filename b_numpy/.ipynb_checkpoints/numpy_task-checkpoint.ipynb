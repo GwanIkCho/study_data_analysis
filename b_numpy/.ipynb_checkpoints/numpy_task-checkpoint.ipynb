{
 "cells": [
  {
   "cell_type": "markdown",
   "id": "23f70c45-c9a3-4e82-bf0f-1cab2529af73",
   "metadata": {},
   "source": [
    "### Numpy Task"
   ]
  },
  {
   "cell_type": "code",
   "execution_count": null,
   "id": "b74cfeee-a202-40e5-bb77-aad50abe531d",
   "metadata": {},
   "outputs": [],
   "source": [
    "# 1~10까지의 요소를 ndarray에 담는다.\n",
    "# 3행 2열 list를 ndarray에 담고 각 요소는 순서대로 6, 5, 4, 3, 2, 1이다.\n",
    "# 4행 1열 ndarray, 순서대로 10, 8, 6, 4를 담는다\n",
    "# 1~10까지 요소를 ndarray에 담고 각 요소에 5씩 더해준다.\n",
    "# axis 0이 10인 shape이면서 모든 원소가 0, dtype은 int32인 ndarray만들기\n",
    "# axis 0이 3, axis1이 4인 shape이면서 모든 원소가 1인 ndarray 만들기\n",
    "# axis 0이 5, 각 요소가 0~4인 ndarray 만들기\n",
    "\n",
    "# 아래의 ndarray1이 주어졌을 때 순서대로 문제를 해결한다.\n",
    "ndarray1 = np.arange(start=0, stop=16)\n",
    "\n",
    "# 2 Dimension, axis 1은 2로 변경\n",
    "# 2 Dimension, axis 0은 8로 변경\n",
    "# 3 Dimension으로 변경\n",
    "# ndarray3을 axis 1이 1인 2차원 ndarray로 변환\n",
    "# ndarray3을 1 Dimension으로 변환\n",
    "\n",
    "# 1차원 ndarray 1~100까지 값 중 97값 추출하기\n",
    "\n",
    "# 아래의 ndarray1이 주어졌을 때 순서대로 문제를 해결한다.\n",
    "ndarray1 = np.arange(start=1, stop=21)\n",
    "\n",
    "# 2차원 배열 axis 0은 4, axis 1은 5로 1~20 요소 값 중 15값 추출하기\n",
    "# 2 Dimension, axis 0은 5로 변경\n",
    "# 2행의 4번째 숫자 출력\n",
    "\n",
    "# 1~100중 짝수만 출력\n",
    "# 위에서 구한 짝수들을 axis 0이 10인 2차원 배열로 변환 후 82~100까지 추출\n",
    "# 위에서 구한 요소 중 (86, 100) 좌표 구하기\n",
    "\n",
    "# 아래의 ndarray1이 주어졌을 때 순서대로 문제를 해결한다.\n",
    "ndarray1 = np.arange(start=1, stop=101)\n",
    "\n",
    "# 각 요소중 1의 자리수가 2인 수들만 추출하기\n",
    "\n",
    "# 1~49요소 중 2와 5의 공배수 추출하기\n",
    "# 위에서 추출한 공배수 중 20이상인 값만 추출하기\n",
    "\n",
    "# 데이터를 분석하여, 각 수치별 오름차순 및 내림차순 후 이름을 출력하세요.\n",
    "# [[과일이름], [가격]], 가격별 내림차순\n",
    "array1 = [['Mango', 'Apple', 'Pear', 'Pitch', 'Melon'], [1500, 1800, 2000, 2500, 8500]]\n",
    "\n",
    "# [[이름], [나이], [학점]], 나이별 내림차순, 학점별 오름차순\n",
    "array2 = [['둘리', '또치', '길동', '도너', '마이콜'], [7, 9, 40, 5, 20], ['C', 'A', 'B', 'F', 'D']]\n",
    "\n",
    "# [[국가이름], [GDP 성장률]], GDP 성장률별 오름차순\n",
    "array3 = [['한국', '영국', '러시아', '남아프리카 공화국', '미국'], ['1.7%', '-0.6%', '0.3%', '1.2%', '1.4%']]"
   ]
  },
  {
   "cell_type": "code",
   "execution_count": 5,
   "id": "ce42a189-4f53-43e8-b43d-568c86a4bce2",
   "metadata": {},
   "outputs": [
    {
     "data": {
      "text/plain": [
       "array([ 1,  2,  3,  4,  5,  6,  7,  8,  9, 10])"
      ]
     },
     "execution_count": 5,
     "metadata": {},
     "output_type": "execute_result"
    }
   ],
   "source": [
    "# 1~10 까지의 요소를 ndarray에 담는다\n",
    "import numpy as np\n",
    "array = np.arange(start = 1, stop =11)\n",
    "array"
   ]
  },
  {
   "cell_type": "code",
   "execution_count": 15,
   "id": "258e9a5b-9761-4aba-b9c7-0bce5171b540",
   "metadata": {},
   "outputs": [
    {
     "data": {
      "text/plain": [
       "array([[6, 5],\n",
       "       [4, 3],\n",
       "       [2, 1]])"
      ]
     },
     "execution_count": 15,
     "metadata": {},
     "output_type": "execute_result"
    }
   ],
   "source": [
    "# 3행 2열 list를 ndarray에 담고 각 요소는 순서대로 6,5,4,3,2,1이다\n",
    "array = np.arange(start = 1, stop = 7)\n",
    "array[::-1].reshape(3,2)"
   ]
  },
  {
   "cell_type": "code",
   "execution_count": 21,
   "id": "9f00eec0-1088-412b-84c6-dc3457ff4ab0",
   "metadata": {},
   "outputs": [
    {
     "data": {
      "text/plain": [
       "array([10,  8,  6,  4])"
      ]
     },
     "execution_count": 21,
     "metadata": {},
     "output_type": "execute_result"
    }
   ],
   "source": [
    "# 4행 1열 ndarray, 순서대로 10,8,6,4를 담는다\n",
    "# Transpose : 전치 행과 열을 바꿔준다.\n",
    "\n",
    "array = np.arange(start = 10, stop = 2, step = -2)\n",
    "array"
   ]
  },
  {
   "cell_type": "code",
   "execution_count": 23,
   "id": "10cc9205-dca7-4f7c-9b59-5fca7bf6f2eb",
   "metadata": {},
   "outputs": [
    {
     "data": {
      "text/plain": [
       "array([ 6,  7,  8,  9, 10, 11, 12, 13, 14, 15])"
      ]
     },
     "execution_count": 23,
     "metadata": {},
     "output_type": "execute_result"
    }
   ],
   "source": [
    "# 1~10까지 요소를 ndarray에 담고 각 요소에 5씩 더해준다.\n",
    "array = np.arange(start = 1, stop =11)\n",
    "array +5"
   ]
  },
  {
   "cell_type": "code",
   "execution_count": 28,
   "id": "878ba0d4-9f65-4a78-b523-a59c61f7572b",
   "metadata": {},
   "outputs": [
    {
     "data": {
      "text/plain": [
       "array([0, 0, 0, 0, 0, 0, 0, 0, 0, 0], dtype=int16)"
      ]
     },
     "execution_count": 28,
     "metadata": {},
     "output_type": "execute_result"
    }
   ],
   "source": [
    "# axis 0이 10인 shape이면서 모든 원소가 0, dtype은 int32인 ndarray만들기\n",
    "array = np.zeros(10,  dtype=np.int32)\n",
    "array\n",
    "\n",
    "\n"
   ]
  },
  {
   "cell_type": "code",
   "execution_count": 31,
   "id": "06a8fb06-6843-4935-a7e4-15b2df939b7d",
   "metadata": {},
   "outputs": [
    {
     "data": {
      "text/plain": [
       "array([[1., 1., 1., 1.],\n",
       "       [1., 1., 1., 1.],\n",
       "       [1., 1., 1., 1.]])"
      ]
     },
     "execution_count": 31,
     "metadata": {},
     "output_type": "execute_result"
    }
   ],
   "source": [
    "# axis 0이 3, axis1이 4인 shape이면서 모든 원소가 1인 ndarray 만들기\n",
    "array = np.ones((3,4))\n",
    "array\n",
    "\n"
   ]
  },
  {
   "cell_type": "code",
   "execution_count": 65,
   "id": "2b2303b9-4c31-478f-89a1-4753ac481c81",
   "metadata": {},
   "outputs": [
    {
     "data": {
      "text/plain": [
       "array([[0, 1, 2, 3, 4],\n",
       "       [0, 1, 2, 3, 4],\n",
       "       [0, 1, 2, 3, 4],\n",
       "       [0, 1, 2, 3, 4],\n",
       "       [0, 1, 2, 3, 4]], dtype=int32)"
      ]
     },
     "execution_count": 65,
     "metadata": {},
     "output_type": "execute_result"
    }
   ],
   "source": [
    "# axis 0이 5, 각 요소가 0~4인 ndarray 만들기\n",
    "\n",
    "array = np.arange(0,25)\n",
    "a = array % 5\n",
    "a.reshape(5,-1)\n"
   ]
  },
  {
   "cell_type": "code",
   "execution_count": 59,
   "id": "a69f275f-460e-4b61-a601-28b6a3d27a2a",
   "metadata": {},
   "outputs": [
    {
     "name": "stdout",
     "output_type": "stream",
     "text": [
      "[ 0  1  2  3  4  5  6  7  8  9 10 11 12 13 14 15]\n",
      "====================\n",
      "[[ 0  1]\n",
      " [ 2  3]\n",
      " [ 4  5]\n",
      " [ 6  7]\n",
      " [ 8  9]\n",
      " [10 11]\n",
      " [12 13]\n",
      " [14 15]]\n",
      "====================\n",
      "[[ 0  1]\n",
      " [ 2  3]\n",
      " [ 4  5]\n",
      " [ 6  7]\n",
      " [ 8  9]\n",
      " [10 11]\n",
      " [12 13]\n",
      " [14 15]]\n",
      "====================\n",
      "[[[ 0  1  2  3]\n",
      "  [ 4  5  6  7]]\n",
      "\n",
      " [[ 8  9 10 11]\n",
      "  [12 13 14 15]]]\n",
      "====================\n",
      "[[[ 0  1  2  3]]\n",
      "\n",
      " [[ 4  5  6  7]]\n",
      "\n",
      " [[ 8  9 10 11]]\n",
      "\n",
      " [[12 13 14 15]]]\n",
      "====================\n",
      "[ 0  1  2  3  4  5  6  7  8  9 10 11 12 13 14 15]\n",
      "====================\n"
     ]
    }
   ],
   "source": [
    "# 아래의 ndarray1이 주어졌을 때 순서대로 문제를 해결한다.\n",
    "ndarray1 = np.arange(start=0, stop=16)\n",
    "print(ndarray1)\n",
    "print(\"=\"*20)\n",
    "# 2 Dimension, axis 1은 2로 변경\n",
    "print(ndarray1.reshape(-1,2))\n",
    "print(\"=\"*20)\n",
    "# 2 Dimension, axis 0은 8로 변경\n",
    "print(ndarray1.reshape(8,-1))\n",
    "print(\"=\"*20)\n",
    "# 3 Dimension으로 변경\n",
    "test = ndarray1.reshape(2,2,-1)\n",
    "print(test)\n",
    "print(\"=\"*20)\n",
    "# ndarray3을 axis 1이 1인 2차원 ndarray로 변환\n",
    "test \n",
    "print(test.reshape(4,1,-1))\n",
    "print(\"=\"*20)\n",
    "# ndarray3을 1 Dimension으로 변환\n",
    "print(test.reshape(-1))\n",
    "print(\"=\"*20)"
   ]
  },
  {
   "cell_type": "code",
   "execution_count": 68,
   "id": "aaf1fb07-17fa-4047-b1ad-c63edccba01c",
   "metadata": {},
   "outputs": [
    {
     "data": {
      "text/plain": [
       "97"
      ]
     },
     "execution_count": 68,
     "metadata": {},
     "output_type": "execute_result"
    }
   ],
   "source": [
    "# 1차원 ndarray 1~100까지 값 중 97값 추출하기\n",
    "array = np.arange(0,100)\n",
    "array[97]"
   ]
  },
  {
   "cell_type": "code",
   "execution_count": 77,
   "id": "4a689f3a-69fb-4167-af65-e6f6b6754ea1",
   "metadata": {},
   "outputs": [
    {
     "name": "stdout",
     "output_type": "stream",
     "text": [
      "[ 1  2  3  4  5  6  7  8  9 10 11 12 13 14 15 16 17 18 19 20]\n",
      "====================\n",
      "15\n",
      "====================\n",
      "[[ 1  2  3  4]\n",
      " [ 5  6  7  8]\n",
      " [ 9 10 11 12]\n",
      " [13 14 15 16]\n",
      " [17 18 19 20]]\n",
      "====================\n",
      "8\n",
      "====================\n"
     ]
    }
   ],
   "source": [
    "# 아래의 ndarray1이 주어졌을 때 순서대로 문제를 해결한다.\n",
    "ndarray1 = np.arange(start=1, stop=21)\n",
    "print(ndarray1)\n",
    "print(\"=\"*20)\n",
    "# 2차원 배열 axis 0은 4, axis 1은 5로 1~20 요소 값 중 15값 추출하기\n",
    "array = ndarray1.reshape(4,5)\n",
    "print(array[2,4])\n",
    "print(\"=\"*20)\n",
    "# 2 Dimension, axis 0은 5로 변경\n",
    "print(ndarray1.reshape(5,-1))\n",
    "print(\"=\"*20)\n",
    "# 2행의 4번째 숫자 출력\n",
    "array = ndarray1.reshape(5,-1)\n",
    "print(array[1,3])\n",
    "print(\"=\"*20)"
   ]
  },
  {
   "cell_type": "code",
   "execution_count": 160,
   "id": "6c765d3c-9a85-487d-9157-85c4299a021c",
   "metadata": {},
   "outputs": [
    {
     "name": "stdout",
     "output_type": "stream",
     "text": [
      "[  2   4   6   8  10  12  14  16  18  20  22  24  26  28  30  32  34  36\n",
      "  38  40  42  44  46  48  50  52  54  56  58  60  62  64  66  68  70  72\n",
      "  74  76  78  80  82  84  86  88  90  92  94  96  98 100]\n",
      "====================\n",
      "[[ 82  84  86  88  90]\n",
      " [ 92  94  96  98 100]]\n",
      "====================\n",
      "86의 위치: 8 2\n",
      "====================\n"
     ]
    }
   ],
   "source": [
    "# 1~100중 짝수만 출력\n",
    "array = np.arange(2,101,2)\n",
    "print(array)\n",
    "print(\"=\"*20)\n",
    "\n",
    "# 위에서 구한 짝수들을 axis 0이 10인 2차원 배열로 변환 후 82~100까지 추출\n",
    "test = array.reshape(10,-1)\n",
    "print(test[8::])\n",
    "print(\"=\"*20)\n",
    "# 위에서 구한 요소 중 (86, 100) 좌표 구하기\n",
    "for i in range(test.shape[0]):\n",
    "    for j in range(test.shape[1]):\n",
    "        if test[i, j] == 86:\n",
    "            print(\"86의 위치:\", i, j)\n",
    "# indices = np.where(test == 86)\n",
    "# print(indices)\n",
    "# print(test[8,2])\n",
    "# print(test[9,4])\n",
    "print(\"=\"*20)"
   ]
  },
  {
   "cell_type": "code",
   "execution_count": 7,
   "id": "43776b7a-dc97-4fa3-9c72-ab241ea4b9d0",
   "metadata": {},
   "outputs": [
    {
     "name": "stdout",
     "output_type": "stream",
     "text": [
      "[ 2 12 22 32 42 52 62 72 82 92]\n",
      "====================\n",
      "[ 10  20  30  40  50  60  70  80  90 100]\n",
      "====================\n",
      "[ 20  30  40  50  60  70  80  90 100]\n",
      "====================\n"
     ]
    }
   ],
   "source": [
    "# 아래의 ndarray1이 주어졌을 때 순서대로 문제를 해결한다.\n",
    "import numpy as np\n",
    "ndarray1 = np.arange(start=1, stop=101)\n",
    "\n",
    "# 각 요소중 1의 자리수가 2인 수들만 추출하기\n",
    "print(ndarray1[ndarray1%10 ==2])\n",
    "print(\"=\"*20)\n",
    "# 1~49요소 중 2와 5의 공배수 추출하기\n",
    "array = ndarray1[ndarray1%10 == 0]\n",
    "print(array)\n",
    "print(\"=\"*20)\n",
    "# 위에서 추출한 공배수 중 20이상인 값만 추출하기\n",
    "print(array[array>=20])\n",
    "print(\"=\"*20)"
   ]
  },
  {
   "cell_type": "code",
   "execution_count": 174,
   "id": "cdc29b58-1ce0-497e-9997-7da6322a8c2c",
   "metadata": {},
   "outputs": [
    {
     "name": "stdout",
     "output_type": "stream",
     "text": [
      "[0 1 2 3 4]\n",
      "['Melon' 'Pitch' 'Pear' 'Apple' 'Mango']\n"
     ]
    }
   ],
   "source": [
    "# 데이터를 분석하여, 각 수치별 오름차순 및 내림차순 후 이름을 출력하세요.\n",
    "# [[과일이름], [가격]], 가격별 내림차순\n",
    "array1 = [['Mango', 'Apple', 'Pear', 'Pitch', 'Melon'], [1500, 1800, 2000, 2500, 8500]]\n",
    "\n",
    "array = np.array(array1)\n",
    "fruit = array[0]\n",
    "pay = array[1]\n",
    "\n",
    "number = np.argsort(pay)\n",
    "print(number)\n",
    "print(fruit[number][::-1])\n"
   ]
  },
  {
   "cell_type": "code",
   "execution_count": 180,
   "id": "cdd5c016-41ea-491d-ac5a-44d26c4f8ea7",
   "metadata": {},
   "outputs": [
    {
     "name": "stdout",
     "output_type": "stream",
     "text": [
      "[ 7  9 40  5 20]\n",
      "['C' 'A' 'B' 'F' 'D']\n",
      "[2 4 1 0 3]\n",
      "[1 2 0 4 3]\n",
      "['길동' '마이콜' '또치' '둘리' '도너']\n",
      "['또치' '길동' '둘리' '마이콜' '도너']\n"
     ]
    }
   ],
   "source": [
    "# [[이름], [나이], [학점]], 나이별 내림차순, 학점별 오름차순\n",
    "array2 = [['둘리', '또치', '길동', '도너', '마이콜'], [7, 9, 40, 5, 20], ['C', 'A', 'B', 'F', 'D']]\n",
    "array = np.array(array2)\n",
    "name = array[0]\n",
    "age = np.array(array[1], dtype=int)\n",
    "test = array[2]\n",
    "\n",
    "agelist = np.argsort(age)[::-1]\n",
    "testlist = np.argsort(test)\n",
    "\n",
    "print(age)\n",
    "print(test)\n",
    "print(agelist)\n",
    "print(testlist)\n",
    "print(name[agelist])\n",
    "print(name[testlist])"
   ]
  },
  {
   "cell_type": "code",
   "execution_count": 171,
   "id": "644c4d66-bc3b-46d2-8464-57fafd666dbf",
   "metadata": {},
   "outputs": [
    {
     "name": "stdout",
     "output_type": "stream",
     "text": [
      "['영국' '러시아' '남아프리카 공화국' '미국' '한국']\n"
     ]
    }
   ],
   "source": [
    "# [[국가이름], [GDP 성장률]], GDP 성장률별 오름차순\n",
    "array3 = [['한국', '영국', '러시아', '남아프리카 공화국', '미국'], ['1.7%', '-0.6%', '0.3%', '1.2%', '1.4%']]\n",
    "array = np.array(array3)\n",
    "name = array[0]\n",
    "gdp = array[1]\n",
    "gdplist = np.argsort(gdp)\n",
    "print(name[gdplist])"
   ]
  },
  {
   "cell_type": "code",
   "execution_count": null,
   "id": "a2c4f323-a473-4ad6-8e36-f63cc07bfc21",
   "metadata": {},
   "outputs": [],
   "source": [
    "# 답지\n",
    "\n",
    "import numpy as np\n",
    "\n",
    "# 1~10까지의 요소를 ndarray에 담는다.\n",
    "# ndarray1 = np.array(list(range(1, 11)))\n",
    "ndarray1 = np.arange(start=1, stop=11)\n",
    "print(ndarray1)\n",
    "\n",
    "# 3행 2열 list를 ndarray에 담고 각 요소는 순서대로 6, 5, 4, 3, 2, 1이다.\n",
    "python_list = []\n",
    "python_list.append([6 - i for i in range(2)])\n",
    "python_list.append([4 - i for i in range(2)])\n",
    "python_list.append([2 - i for i in range(2)])\n",
    "\n",
    "ndarray2 = np.array(python_list)\n",
    "print(type(ndarray2), ndarray2.shape, ndarray2.ndim, ndarray2.dtype, sep=\"\\n\")\n",
    "\n",
    "# 4행 1열 ndarray, 순서대로 10, 8, 6, 4를 담는다\n",
    "# Transpose: 전치, 행과 열을 바꿔준다.\n",
    "ndarray2 = np.array([[(5 - i) * 2 for i in range(4)]]).T\n",
    "print(ndarray2)\n",
    "\n",
    "# 1~10까지 요소를 ndarray에 담고 각 요소에 5씩 더해준다.\n",
    "ndarray1 = np.arange(start=1, stop=11)\n",
    "ndarray1_oper = ndarray1 + 5\n",
    "print(ndarray1_oper)\n",
    "\n",
    "# axis 0이 10인 shape이면서 모든 원소가 0, dtype은 int32인 ndarray만들기\n",
    "ndarray1 = np.zeros((10,), dtype=np.int32)\n",
    "print(ndarray1, ndarray1.shape, sep=\"\\n\")\n",
    "\n",
    "# axis 0이 3, axis1이 4인 shape이면서 모든 원소가 1인 ndarray 만들기\n",
    "ndarray1 = np.ones((3, 4), dtype=np.int8)\n",
    "print(ndarray1, ndarray1.shape, sep=\"\\n\")\n",
    "\n",
    "# axis 0이 5, 각 요소가 0~4인 ndarray 만들기\n",
    "ndarray1 = np.arange(stop=5)\n",
    "print(ndarray1, ndarray1.shape, sep=\"\\n\")\n",
    "\n",
    "# 아래의 ndarray1이 주어졌을 때 순서대로 문제를 해결한다.\n",
    "ndarray1 = np.arange(start=0, stop=16)\n",
    "\n",
    "# 2 Dimension, axis 1은 2로 변경\n",
    "ndarray2 = ndarray1.reshape((-1, 2))\n",
    "print(ndarray2, ndarray2.shape, sep=\"\\n\")\n",
    "\n",
    "# 2 Dimension, axis 0은 8로 변경\n",
    "ndarray2 = ndarray1.reshape((8, -1))\n",
    "print(ndarray2, ndarray2.shape, sep=\"\\n\")\n",
    "\n",
    "# 3 Dimension으로 변경\n",
    "ndarray3 = ndarray1.reshape((4, 2, -1))\n",
    "print(ndarray3, ndarray3.shape, sep=\"\\n\")\n",
    "\n",
    "# ndarray3을 axis 1이 1인 2차원 ndarray로 변환\n",
    "ndarray2 = ndarray3.reshape((-1, 1))\n",
    "print(ndarray2, ndarray2.shape, sep=\"\\n\")\n",
    "\n",
    "# ndarray3을 1 Dimension으로 변환\n",
    "# ndarray1 = ndarray3.reshape((-1, ))\n",
    "ndarray1 = ndarray3.flatten()\n",
    "print(ndarray1, ndarray1.shape, sep=\"\\n\")\n",
    "\n",
    "# 1차원 ndarray 1~100까지 값 중 97값 추출하기\n",
    "ndarray1 = np.arange(start=1, stop=101)\n",
    "print(ndarray1[96])\n",
    "\n",
    "# 아래의 ndarray1이 주어졌을 때 순서대로 문제를 해결한다.\n",
    "ndarray1 = np.arange(start=1, stop=21)\n",
    "\n",
    "# 2차원 배열 axis 0은 4, axis 1은 5로 1~20 요소 값 중 15값 추출하기\n",
    "ndarray2 = ndarray1.reshape((4, 5))\n",
    "print(ndarray2[2, 4])\n",
    "\n",
    "# 2 Dimension, axis 0은 5로 변경\n",
    "ndarray2 = ndarray1.reshape((5, -1))\n",
    "\n",
    "# 2행의 4번째 숫자 출력\n",
    "print(ndarray2[1, 3])\n",
    "\n",
    "# 1~100중 짝수만 출력\n",
    "ndarray1 = np.arange(start=1, stop=101)\n",
    "ndarray1_even = ndarray1[ndarray1 % 2 == 0]\n",
    "\n",
    "# 위에서 구한 짝수들을 axis 0이 10인 2차원 배열로 변환 후 82~100까지 추출\n",
    "ndarray2_even = ndarray1_even.reshape((10, -1))\n",
    "ndarray2_even_ex = ndarray2_even[8:]\n",
    "\n",
    "# 위에서 구한 요소 중 (86, 100) 좌표 구하기\n",
    "print(ndarray2_even_ex)\n",
    "print(\"86의 좌표(x, y): (0, 2)\")\n",
    "print(\"100의 좌표(x, y): (1, 4)\")\n",
    "print(ndarray2_even_ex[0, 2], ndarray2_even_ex[1, 4])\n",
    "\n",
    "# 아래의 ndarray1이 주어졌을 때 순서대로 문제를 해결한다.\n",
    "ndarray1 = np.arange(start=1, stop=101)\n",
    "\n",
    "# 각 요소중 1의 자리수가 2인 수들만 추출하기\n",
    "print(ndarray1[ndarray1 % 10 == 2])\n",
    "\n",
    "# 1~49요소 중 2와 5의 공배수 추출하기\n",
    "ndarray1 = np.arange(start=1, stop=50)\n",
    "condition1 = ndarray1 % 2 == 0\n",
    "condition2 = ndarray1 % 5 == 0\n",
    "condition3 = condition1 & condition2\n",
    "result = ndarray1[condition3]\n",
    "\n",
    "# 위에서 추출한 공배수 중 20이상인 값만 추출하기\n",
    "condition = result >= 20\n",
    "print(result[condition])\n",
    "\n",
    "# 데이터를 분석하여, 각 수치별 오름차순 및 내림차순 후 이름을 출력하세요.\n",
    "# [[과일이름], [가격]], 가격별 내림차순\n",
    "array1 = [['Mango', 'Apple', 'Pear', 'Pitch', 'Melon'], [1500, 1800, 2000, 2500, 8500]]\n",
    "\n",
    "ndarray2 = np.array(array1)\n",
    "fruit_name = ndarray2[:1].flatten()\n",
    "fruit_price = ndarray2[-1]\n",
    "\n",
    "print(fruit_name, fruit_price, sep=\"\\n\")\n",
    "\n",
    "fruit_name_asc = fruit_name[fruit_price.argsort()[::-1]]\n",
    "print(fruit_name_asc)\n",
    "\n",
    "# [[이름], [나이], [학점]], 나이별 내림차순, 학점별 오름차순\n",
    "array2 = [['둘리', '또치', '길동', '도너', '마이콜'], [7, 9, 40, 5, 20], ['C', 'A', 'B', 'F', 'D']]\n",
    "\n",
    "ndarray2 = np.array(array2)\n",
    "names = ndarray2[:1].flatten()\n",
    "ages = ndarray2[1].astype(np.int16)\n",
    "grades = ndarray2[-1]\n",
    "\n",
    "print(names, ages, grades)\n",
    "\n",
    "print(names[ages.argsort()[::-1]])\n",
    "print(names[grades.argsort()])\n",
    "\n",
    "# [[국가이름], [GDP 성장률]], GDP 성장률별 오름차순\n",
    "array3 = [['한국', '영국', '러시아', '남아프리카 공화국', '미국'], ['1.7%', '-0.6%', '0.3%', '1.2%', '1.4%']]\n",
    "gdp_list = []\n",
    "ndarray2 = np.array(array3)\n",
    "\n",
    "nations = ndarray2[0]\n",
    "gdps = ndarray2[1]\n",
    "\n",
    "\n",
    "for gdp in gdps:\n",
    "    gdp_list.append(gdp.replace('%', ''))\n",
    "\n",
    "gdps = np.array(gdp_list, dtype=np.float16)\n",
    "\n",
    "print(nations[gdps.argsort()])"
   ]
  },
  {
   "cell_type": "code",
   "execution_count": null,
   "id": "86d3ba07-d2f9-4d82-8e33-d9c76a34000a",
   "metadata": {},
   "outputs": [],
   "source": []
  },
  {
   "cell_type": "code",
   "execution_count": null,
   "id": "c1f37561-3241-490d-afd6-cc7b3f4f9956",
   "metadata": {},
   "outputs": [],
   "source": []
  }
 ],
 "metadata": {
  "kernelspec": {
   "display_name": "Python 3 (ipykernel)",
   "language": "python",
   "name": "python3"
  },
  "language_info": {
   "codemirror_mode": {
    "name": "ipython",
    "version": 3
   },
   "file_extension": ".py",
   "mimetype": "text/x-python",
   "name": "python",
   "nbconvert_exporter": "python",
   "pygments_lexer": "ipython3",
   "version": "3.11.8"
  }
 },
 "nbformat": 4,
 "nbformat_minor": 5
}
