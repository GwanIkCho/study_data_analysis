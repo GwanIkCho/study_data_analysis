{
 "cells": [
  {
   "cell_type": "code",
   "execution_count": 2,
   "id": "f6589166-f995-4d7b-99d6-cb96776a0648",
   "metadata": {},
   "outputs": [],
   "source": [
    "import numpy as np"
   ]
  },
  {
   "cell_type": "code",
   "execution_count": 3,
   "id": "f6be9c3e-a0cf-41be-b7a6-d18c0849360e",
   "metadata": {},
   "outputs": [
    {
     "name": "stdout",
     "output_type": "stream",
     "text": [
      "1.26.4\n"
     ]
    }
   ],
   "source": [
    "print(np.__version__)"
   ]
  },
  {
   "cell_type": "markdown",
   "id": "ea6a4c0d-f3f4-402e-adcb-c4edc3eb46fe",
   "metadata": {},
   "source": [
    "### Numpy\n",
    "- 머신러닝 애플리케이션에서 데이터 추출, 가공, 변환과 같은 데이터 처리 부분을 담당한다.\n",
    "- 넘파이 기반의 사이킷런을 이해하기 위해서는 넘파이는 필수이다.\n",
    "- 사이킷런은 직관적이고 간결하기 때문에 상대적으로 개발하기 쉽지만 넘파이는 양도 많고 배울것도 많다.\n",
    "- 넘파이 전체를 다 이해하고 공부하는 것은 머신러닝을 포기하게 만들기 때문에 기본 문법과 중요 API만 이해하는 것이 전략적으로 좋다."
   ]
  },
  {
   "cell_type": "markdown",
   "id": "f22044df-129d-4e41-b3fc-803fba16e2c6",
   "metadata": {},
   "source": [
    "#### ndarray\n",
    "- N 차원(n-dimension) 배열 객체이다.\n",
    "- 파이썬 list를 array() 메소드에 전달하면 ndarray로 변환되고 넘파이의 다양하고 편리한 기능들을 사용할 수 있게된다.\n",
    "- 반드시 같은 자료형의 데이터만 담아야 한다.\n",
    "\n",
    "<img src=\"./images/numpy01.png\" width=\"400ox\" style=\"margin-left:10ox\">"
   ]
  },
  {
   "cell_type": "code",
   "execution_count": 4,
   "id": "ab52601a-d68f-4199-8516-7ab288d20340",
   "metadata": {},
   "outputs": [],
   "source": [
    "import numpy as np"
   ]
  },
  {
   "cell_type": "code",
   "execution_count": 9,
   "id": "c99c77dc-ed95-4c88-b4b1-b0252cf0b498",
   "metadata": {},
   "outputs": [
    {
     "name": "stdout",
     "output_type": "stream",
     "text": [
      "<class 'numpy.ndarray'>\n",
      "[1 2 3]\n",
      "====================\n",
      "(3,)\n",
      "1\n"
     ]
    }
   ],
   "source": [
    "ndarray1 = np.array([1,2,3])\n",
    "\n",
    "print(type(ndarray1), ndarray1, sep='\\n')\n",
    "print(\"=\"*20)\n",
    "\n",
    "# shaoe: 차원별 개수를 나타낸다.\n",
    "print(ndarray1.shape)\n",
    "\n",
    "# ndim : 차원 개수를 나타낸다.\n",
    "print(ndarray1.ndim)"
   ]
  },
  {
   "cell_type": "code",
   "execution_count": 20,
   "id": "01c9a2d3-22c0-4439-a691-1f2042d15c69",
   "metadata": {},
   "outputs": [
    {
     "name": "stdout",
     "output_type": "stream",
     "text": [
      "<class 'numpy.ndarray'>\n",
      "[[1 2 3]\n",
      " [4 5 6]]\n",
      "(2, 3)\n",
      "2\n"
     ]
    }
   ],
   "source": [
    "# 아래의 2차원 list를 ndarray로 변환한다\n",
    "# 1,2,3\n",
    "# 4,5,6\n",
    " #차원을 출력해본다\n",
    "\n",
    "ndarray2 = np.array([[1,2,3], [4,5,6]])\n",
    "print(type(ndarray2), ndarray2, sep='\\n')\n",
    "print(ndarray2.shape)\n",
    "print(ndarray2.ndim)"
   ]
  },
  {
   "cell_type": "markdown",
   "id": "5ba0ab1a-f13c-42c5-9941-ac207fcba095",
   "metadata": {},
   "source": [
    "#### astype()\n",
    "- ndarray에 저장된 요소의 타입을 변활시킬 때 사용한다.\n",
    "- 대용량 데이터 처리 시, 메모리 절약을 위해 사용한다."
   ]
  },
  {
   "cell_type": "code",
   "execution_count": 30,
   "id": "402d68fa-289a-483d-9b7f-d28b51a5102c",
   "metadata": {},
   "outputs": [
    {
     "name": "stdout",
     "output_type": "stream",
     "text": [
      "<class 'numpy.ndarray'>\n",
      "[1 2 3]\n",
      "int32\n",
      "<class 'numpy.ndarray'>\n",
      "[1 2 3]\n",
      "int32\n"
     ]
    }
   ],
   "source": [
    "nparray1 = np.array([1,2,3])\n",
    "print(type(ndarray1), ndarray1, sep='\\n')\n",
    "print(ndarray1.dtype)\n",
    "\n",
    "ndarray1_int8 = ndarray1.astype(np.int8)\n",
    "\n",
    "print(type(ndarray1_int8), ndarray1_int8, sep='\\n')\n",
    "print(ndarray1.dtype)\n"
   ]
  },
  {
   "cell_type": "code",
   "execution_count": 33,
   "id": "84840544-681f-47bd-a837-5f03b358d4ca",
   "metadata": {},
   "outputs": [
    {
     "name": "stdout",
     "output_type": "stream",
     "text": [
      "(3,)\n",
      "int32\n",
      "float16\n"
     ]
    }
   ],
   "source": [
    "# 4,5,6을 ndarray에 담는다\n",
    "# dtype을 확인 한 뒤 float16으로 확인한다.\n",
    "nparray = np.array([4,5,6])\n",
    "print(nparray.shape)\n",
    "print(nparray.dtype)\n",
    "ndarray1_test = nparray.astype(np.float16)\n",
    "print(ndarray1_test.dtype)"
   ]
  },
  {
   "cell_type": "markdown",
   "id": "456e9bdc-2ca3-475f-92d0-a87b5d0562b0",
   "metadata": {},
   "source": [
    "#### axis\n",
    "- 축의 방향성을 표현할 때 axis로 표현할 수 있다.\n",
    "\n",
    "<img src=\"./images/numpy02.png\" width=\"500ox\" style=\"margin-left:10ox\">"
   ]
  },
  {
   "cell_type": "markdown",
   "id": "3591f706-5589-464c-bbd8-59929b6d805a",
   "metadata": {},
   "source": [
    "#### arnage(), zeros(), ones()\n",
    "- ndarray의 요소를 원하는 범위의 연속값, 0 또는 1로 초기화할 때 사용한다."
   ]
  },
  {
   "cell_type": "code",
   "execution_count": 54,
   "id": "228a93f4-61af-47b4-98f0-78e9566b61af",
   "metadata": {},
   "outputs": [
    {
     "name": "stdout",
     "output_type": "stream",
     "text": [
      "int32 (10,)\n",
      "float64 (2, 3)\n",
      "[[0. 0. 0.]\n",
      " [0. 0. 0.]]\n",
      "int16 (3,)\n",
      "[1 1 1]\n"
     ]
    }
   ],
   "source": [
    "# 0 ~ 9까지 1차원 ndarray\n",
    "ndarray1 = np.arange(0, 10)\n",
    "print(ndarray1.dtype, ndarray1.shape)\n",
    "ndarray1\n",
    "\n",
    "# 2행 3열 요소 모두 0으로 초기화\n",
    "ndarray2 = np.zeros((2,3))\n",
    "print(ndarray2.dtype, ndarray2.shape)\n",
    "print(ndarray2)\n",
    "\n",
    "# 1차원 3칸 배열 요소 모두 1로 초기화\n",
    "ndarray3 = np.ones((3,), dtype=np.int16)\n",
    "print(ndarray3.dtype, ndarray3.shape)\n",
    "print(ndarray3)"
   ]
  },
  {
   "cell_type": "markdown",
   "id": "c84910e3-422a-41cf-b212-b83606422797",
   "metadata": {},
   "source": [
    "### reshape()\n",
    "- ndarray의 기존 shape를 다른 shape로 변경한다."
   ]
  },
  {
   "cell_type": "code",
   "execution_count": 65,
   "id": "66581b3e-e4f3-4b25-9be0-e779ea65095c",
   "metadata": {},
   "outputs": [
    {
     "name": "stdout",
     "output_type": "stream",
     "text": [
      "(8,)\n",
      "[0 1 2 3 4 5 6 7]\n",
      "====================\n",
      "(2, 4)\n",
      "[[0 1 2 3]\n",
      " [4 5 6 7]]\n",
      "====================\n",
      "(4, 2)\n",
      "[[0 1]\n",
      " [2 3]\n",
      " [4 5]\n",
      " [6 7]]\n",
      "====================\n"
     ]
    }
   ],
   "source": [
    "ndarray1 = np.arange(8)\n",
    "print(ndarray1.shape)\n",
    "print(ndarray1)\n",
    "\n",
    "print('='*20)\n",
    "\n",
    "ndarray2 = ndarray1.reshape((2,4))\n",
    "print(ndarray2.shape)\n",
    "print(ndarray2)\n",
    "\n",
    "print('='*20)\n",
    "\n",
    "ndarray3 = ndarray1.reshape((-1, 2))\n",
    "print(ndarray3.shape)\n",
    "print(ndarray3)\n",
    "\n",
    "print('='*20)\n"
   ]
  },
  {
   "cell_type": "markdown",
   "id": "2ced15bc-eed9-466e-baad-52133f7827f6",
   "metadata": {},
   "source": [
    "#### Indexing\n",
    "- 특정 위치의 데이터를 가져오는 것\n",
    "- 위치 인덱싱(Location indexing)\n",
    "- 슬라이싱(Slicing)\n",
    "- 팬시 인덱싱(Fancy indexing)\n",
    "- 불린 인덱싱(Boolean indexing)"
   ]
  },
  {
   "cell_type": "code",
   "execution_count": 73,
   "id": "07881056-f980-499a-8b13-0c25b712c33b",
   "metadata": {},
   "outputs": [
    {
     "name": "stdout",
     "output_type": "stream",
     "text": [
      "4\n",
      "9\n"
     ]
    }
   ],
   "source": [
    "# 1차원 위치 인덱싱 : 전달한 위치(인덱스) 값 한 개 추출\n",
    "\n",
    "# 2~10 까지 순서대로 요소를 갖는 1차원 ndarray\n",
    "\n",
    "nparray1 = np.arange(start = 2, stop = 11)\n",
    "\n",
    "data = nparray1[2]\n",
    "print(data)\n",
    "\n",
    "\n",
    "# 9가져오기\n",
    "data = nparray1[-2]\n",
    "print(data)\n"
   ]
  },
  {
   "cell_type": "code",
   "execution_count": 90,
   "id": "0de24feb-28bc-48f5-a9c2-a7d5c93b7f2a",
   "metadata": {},
   "outputs": [
    {
     "name": "stdout",
     "output_type": "stream",
     "text": [
      "1\n",
      "9\n",
      "[7 8 9]\n"
     ]
    }
   ],
   "source": [
    "# 2차원 위치 인덱싱 : 전달한 위치(인덱스) 값 한 개 추출\n",
    "\n",
    "# 1~10 1차원 ndarray\n",
    "# 2차원 3행으로 변경\n",
    "\n",
    "ndarray1 = np.arange(start = 1, stop = 10)\n",
    "data = ndarray1.reshape((3,-1))\n",
    "print(data[0,0])\n",
    "print(data[2,2])\n",
    "print(data[2])"
   ]
  },
  {
   "cell_type": "code",
   "execution_count": 95,
   "id": "7d38e862-45fb-4e01-8533-3a5006564de5",
   "metadata": {},
   "outputs": [
    {
     "name": "stdout",
     "output_type": "stream",
     "text": [
      "[2 4 6 8]\n",
      "[2 4 6 8]\n",
      "[2 4 6] 8\n"
     ]
    }
   ],
   "source": [
    "# 1차원 슬라이싱 : 시작위치와 종료위치에 해당하는 ndarray 추출\n",
    "\n",
    "ndarray1 = np.arange(start = 2, stop = 10, step = 2)\n",
    "print(ndarray1)\n",
    "print(ndarray1[:])\n",
    "print(ndarray1[:-1], ndarray1[-1])"
   ]
  },
  {
   "cell_type": "code",
   "execution_count": 106,
   "id": "25e5bcc0-cfed-4d99-99d5-aa694dde63c1",
   "metadata": {},
   "outputs": [
    {
     "name": "stdout",
     "output_type": "stream",
     "text": [
      "[ 1  2  3  4  5  6  7  8  9 10 11 12 13 14 15 16 17 18 19 20 21 22 23 24\n",
      " 25 26 27]\n",
      "====================\n",
      "[[ 1  2  3]\n",
      " [ 4  5  6]\n",
      " [ 7  8  9]\n",
      " [10 11 12]\n",
      " [13 14 15]\n",
      " [16 17 18]\n",
      " [19 20 21]\n",
      " [22 23 24]\n",
      " [25 26 27]]\n",
      "====================\n",
      "[[1 2]\n",
      " [4 5]\n",
      " [7 8]]\n",
      "====================\n",
      "[[25 26 27]\n",
      " [22 23 24]\n",
      " [19 20 21]\n",
      " [16 17 18]\n",
      " [13 14 15]\n",
      " [10 11 12]\n",
      " [ 7  8  9]\n",
      " [ 4  5  6]\n",
      " [ 1  2  3]]\n"
     ]
    }
   ],
   "source": [
    "# 2차원 슬라이싱 : 시작위치와 종료위치에 해당하는 ndarray 추출\n",
    "\n",
    "ndarray1 = np.arange(start = 1, stop = 28)\n",
    "print(ndarray1)\n",
    "print(\"=\"*20)\n",
    "ndarray2 = ndarray1.reshape((-1, 3))\n",
    "print(ndarray2)\n",
    "print(\"=\"*20)\n",
    "print(ndarray2[:3,:2])\n",
    "print(\"=\"*20)\n",
    "print(ndarray2[::-1])"
   ]
  },
  {
   "cell_type": "code",
   "execution_count": 109,
   "id": "736477f4-61f0-49b5-98bc-cfdfe003a5d9",
   "metadata": {},
   "outputs": [
    {
     "name": "stdout",
     "output_type": "stream",
     "text": [
      "[[ 1  2  3  4  5]\n",
      " [ 6  7  8  9 10]\n",
      " [11 12 13 14 15]\n",
      " [16 17 18 19 20]]\n",
      "====================\n"
     ]
    },
    {
     "data": {
      "text/plain": [
       "array([[ 1,  2,  3,  4,  5],\n",
       "       [11, 12, 13, 14, 15]])"
      ]
     },
     "execution_count": 109,
     "metadata": {},
     "output_type": "execute_result"
    }
   ],
   "source": [
    "# 팬시 인덱싱 : list를 전달해서 한 번에 여러 요소를 추출한다.\n",
    "\n",
    "ndarray1 = np.arange(start = 1, stop = 21)\n",
    "ndarray2 = ndarray1.reshape((4, -1))\n",
    "print(ndarray2)\n",
    "print(\"=\"*20)\n",
    "ndarray2[[0,2]]"
   ]
  },
  {
   "cell_type": "code",
   "execution_count": 113,
   "id": "b8bf16a1-2379-4495-857b-cd4ddc109808",
   "metadata": {},
   "outputs": [
    {
     "data": {
      "text/plain": [
       "array([ 10,  25,  40,  55,  70,  85, 100])"
      ]
     },
     "execution_count": 113,
     "metadata": {},
     "output_type": "execute_result"
    }
   ],
   "source": [
    "# 불린 인덱싱 : True인 위치의 ndarray 추출\n",
    "\n",
    "ndarray = np.arange(start=1, stop = 101, step = 3)\n",
    "ndarray[ndarray % 5 == 0]"
   ]
  },
  {
   "cell_type": "markdown",
   "id": "aa8e3632-4d23-4410-a303-8d1718ad943b",
   "metadata": {},
   "source": [
    "#### Sorting\n",
    "- 모두 오름차순 정렬이며, 내림차순은 오름차순 정렬 후 [::-1]을 붙여 사용한다."
   ]
  },
  {
   "cell_type": "code",
   "execution_count": 115,
   "id": "2ef7b5e0-37ee-4f27-9cf1-df88ca80f808",
   "metadata": {},
   "outputs": [
    {
     "name": "stdout",
     "output_type": "stream",
     "text": [
      "원본배열 : [0 4 2 5]\n",
      "오름차순 배열 : [0 2 4 5]\n",
      "오름차순 배열 : [5 4 2 0]\n"
     ]
    }
   ],
   "source": [
    "# np.sort(ndaaray)\n",
    "\n",
    "original_ndarray = np.array([0,4,2,5])\n",
    "sorted_ndarray = np.sort(original_ndarray)\n",
    "print(f'원본배열 : {original_ndarray}')\n",
    "print(f'오름차순 배열 : {sorted_ndarray}')\n",
    "print(f'오름차순 배열 : {sorted_ndarray[::-1]}')\n"
   ]
  },
  {
   "cell_type": "code",
   "execution_count": 123,
   "id": "137ddcee-9eab-483e-ab03-87b3fcd5088e",
   "metadata": {},
   "outputs": [
    {
     "name": "stdout",
     "output_type": "stream",
     "text": [
      "원본 : [[20 18 16 14 12]\n",
      " [10  8  6  4  2]]\n",
      "[[10  8  6  4  2]\n",
      " [20 18 16 14 12]]\n",
      "[[ 2  4  6  8 10]\n",
      " [12 14 16 18 20]]\n"
     ]
    }
   ],
   "source": [
    "# np.sort(ndaaray, axis=n)\n",
    "\n",
    "ndarray = np.array([i for i in range(20,0,-2)])\n",
    "ndarray1 = ndarray.reshape((2,-1))\n",
    "print(f'원본 : {ndarray1}')\n",
    "sorted_ndarray_axis0 = np.sort(ndarray1, axis=0)\n",
    "print(sorted_ndarray_axis0 )\n",
    "sorted_ndarray_axis1 = np.sort(sorted_ndarray_axis0, axis=1)\n",
    "print(sorted_ndarray_axis1 )"
   ]
  },
  {
   "cell_type": "code",
   "execution_count": 126,
   "id": "5bbf2cfd-f2fc-4e37-9bb6-74f43dc7fbf5",
   "metadata": {},
   "outputs": [
    {
     "name": "stdout",
     "output_type": "stream",
     "text": [
      "정렬 후 원본 인덱스 [0 2 1 3]\n",
      "오름차순으로 정렬된 mdarray : [0 2 3 6]\n"
     ]
    }
   ],
   "source": [
    "# np.argsort(ndarray)\n",
    "\n",
    "original_ndarray = np.array([0,3,2,6])\n",
    "sorted_indices = np.argsort(original_ndarray)\n",
    "print(f'정렬 후 원본 인덱스 {sorted_indices}')\n",
    "\n",
    "sorted_ndarray = original_ndarray[sorted_indices]\n",
    "print(f'오름차순으로 정렬된 mdarray : {sorted_ndarray}')\n"
   ]
  },
  {
   "cell_type": "code",
   "execution_count": 139,
   "id": "928dc59f-aeab-4f07-916c-033120bae003",
   "metadata": {},
   "outputs": [
    {
     "name": "stdout",
     "output_type": "stream",
     "text": [
      "[0 1 3 2 4]\n",
      "1 :Lamborghini 2: Mclaren 3: Bentley 4: Benz 5: The New Morning\n"
     ]
    }
   ],
   "source": [
    "cars = np.array(['Lamborghini', 'Mclaren', 'Benz', 'Bentley', 'The New Morning'])\n",
    "zero100 = np.array([2.8, 2.9, 5.2, 3.7, 13.5])\n",
    "\n",
    "number = np.argsort(zero100)\n",
    "print(number)\n",
    "print(f'1 :{cars[number][0]} 2: {cars[number][1]} 3: {cars[number][2]} 4: {cars[number][3]} 5: {cars[number][4]}')"
   ]
  },
  {
   "cell_type": "markdown",
   "id": "3225998c-6c29-490e-8b60-02efb7af3b46",
   "metadata": {},
   "source": [
    "### 백터\n",
    "- 데이터 과학에서 백터란 숫자 자료를 나열한 것을 의미한다.\n",
    "- 백터는 공간에서 한 점을 나타낸다.\n",
    "- freture 1개당 1차원이고, feature가 3개면 3차원이다.\n",
    "- 이 때, 1차원 좌표평면에서는 열벡터를 표현할 수 있으며, 2차원 좌표평면에서는 2열 데이터를 표현할 수 있게 된다."
   ]
  },
  {
   "cell_type": "markdown",
   "id": "648fdf6e-c0bb-495c-b7c5-997503447e41",
   "metadata": {},
   "source": [
    "#### 내적 (Dot produt)\n",
    "- 두 벡터의 성분들의 곱의 합\n",
    "\n",
    "<img src=\"./images/numpy03.png\" width=\"500ox\">"
   ]
  },
  {
   "cell_type": "markdown",
   "id": "29741a65-017c-4a9d-a842-15c57b8ec4b5",
   "metadata": {},
   "source": [
    "#### 선형대수 (Linear Algebra)\n",
    "- 선형 방정식을 풀기 위해 배우는 학문이다.\n",
    "- 4x = 16일 경우, 좌항의 4를 우향으로 넘겨서 x라는 것을 구할 수 있고, 방정식 1개만으로 해를 구할 수 있다.\n",
    "- y = 2x + 5 일 경우, 미지수가 2개이기 때문에 방정식이 2개 필요하다\n",
    "- 이러한 연립 방정식을 표현할 때 쉽게 표현하기 위해서 선형대수를 배운다.\n",
    "----------------------------------------------------------------------------\n",
    "\n",
    "Aw = k\n",
    "\n",
    "A = np.array([[1,1],[2,-3]])\n",
    "K = np.array([[10,10]]).T\n",
    "w = np.dot(np.linalg.inv(A), K)\n",
    "print(w)"
   ]
  },
  {
   "cell_type": "code",
   "execution_count": 3,
   "id": "8d065d1a-e6e0-4472-a318-45a577ceb371",
   "metadata": {},
   "outputs": [
    {
     "name": "stdout",
     "output_type": "stream",
     "text": [
      "[[1 2]\n",
      " [3 4]]\n",
      "[[5]\n",
      " [6]]\n"
     ]
    },
    {
     "data": {
      "text/plain": [
       "array([[17],\n",
       "       [39]])"
      ]
     },
     "execution_count": 3,
     "metadata": {},
     "output_type": "execute_result"
    }
   ],
   "source": [
    "import numpy as np\n",
    "\n",
    "A = np.array([1,2,3,4]).reshape((2,2))\n",
    "w = np.array([5,6]).reshape((2,1))\n",
    "\n",
    "print(A,w, sep='\\n')\n",
    "np.dot(A,w)"
   ]
  },
  {
   "cell_type": "code",
   "execution_count": 4,
   "id": "48717faf-8a62-4cce-90b8-0c02537362da",
   "metadata": {},
   "outputs": [
    {
     "name": "stdout",
     "output_type": "stream",
     "text": [
      "[[8.]\n",
      " [2.]]\n"
     ]
    }
   ],
   "source": [
    "# x + y = 10\n",
    "# 2x - 3y = 10\n",
    "\n",
    "# Aw = k\n",
    "\n",
    "A = np.array([[1,1],[2,-3]])\n",
    "K = np.array([[10,10]]).T\n",
    "w = np.dot(np.linalg.inv(A), K)\n",
    "print(w)"
   ]
  },
  {
   "cell_type": "code",
   "execution_count": 12,
   "id": "3349e036-9ecb-4fb5-88be-c39b28ce07ae",
   "metadata": {},
   "outputs": [
    {
     "name": "stdout",
     "output_type": "stream",
     "text": [
      "[[ 8.]\n",
      " [-2.]\n",
      " [-1.]]\n"
     ]
    }
   ],
   "source": [
    "# x + 2y + 3z = 1\n",
    "# x + 2y + z = 3\n",
    "# x + 3z = 5\n",
    "\n",
    "A = np.array([[1,2,3],[1,2,1],[1,0,3]])\n",
    "K = np.array([[1,3,5]]).T\n",
    "w = np.dot(np.linalg.inv(A), K)\n",
    "print(w)"
   ]
  },
  {
   "cell_type": "markdown",
   "id": "df816a35-a0ad-4894-9fa4-4d9904694e4c",
   "metadata": {},
   "source": [
    "#### 과결정계 (Overdetermined system)\n",
    "- 미지수보다 많은 방정식이 있는 연립방정식으로서 보통 해가 존재하지 않는다.\n",
    "- 3차원 공간에 존재하는 2차원 평명에서 3차원 공간의 해를 구할 수 없기 때문에, 3차원을 2차원으로 축소해야 하고, 이때 투영이 필요하다.\n",
    "- 투영시, 원본 값에서 어느정도의 lose(손실)가 발생하지만 이를 감안하고 근사값을 구한다."
   ]
  },
  {
   "cell_type": "code",
   "execution_count": null,
   "id": "d4d60ad5-1c6e-4aef-922b-3e2e796e2e0b",
   "metadata": {},
   "outputs": [],
   "source": []
  },
  {
   "cell_type": "code",
   "execution_count": null,
   "id": "6a20f83e-72d3-4e39-979c-5b21a01c5f33",
   "metadata": {},
   "outputs": [],
   "source": []
  },
  {
   "cell_type": "code",
   "execution_count": null,
   "id": "a140e6ef-dae0-44bf-beda-8869272a8b26",
   "metadata": {},
   "outputs": [],
   "source": []
  },
  {
   "cell_type": "code",
   "execution_count": null,
   "id": "e9db439f-90ce-4fe7-a763-50dd6db9feb4",
   "metadata": {},
   "outputs": [],
   "source": []
  },
  {
   "cell_type": "code",
   "execution_count": null,
   "id": "5981667a-f0a5-4157-bb1c-3a797dbdfd64",
   "metadata": {},
   "outputs": [],
   "source": []
  },
  {
   "cell_type": "code",
   "execution_count": null,
   "id": "65f0032c-ad93-4016-a9ec-a93f93cfb181",
   "metadata": {},
   "outputs": [],
   "source": []
  },
  {
   "cell_type": "code",
   "execution_count": null,
   "id": "aff18b29-d230-49b1-b306-9da0d55c162a",
   "metadata": {},
   "outputs": [],
   "source": []
  },
  {
   "cell_type": "code",
   "execution_count": null,
   "id": "7fa57c34-81fb-4459-99ff-95c959addfeb",
   "metadata": {},
   "outputs": [],
   "source": []
  },
  {
   "cell_type": "code",
   "execution_count": null,
   "id": "2f083320-db81-4299-8aff-5b7c5764cf1a",
   "metadata": {},
   "outputs": [],
   "source": []
  }
 ],
 "metadata": {
  "kernelspec": {
   "display_name": "Python 3 (ipykernel)",
   "language": "python",
   "name": "python3"
  },
  "language_info": {
   "codemirror_mode": {
    "name": "ipython",
    "version": 3
   },
   "file_extension": ".py",
   "mimetype": "text/x-python",
   "name": "python",
   "nbconvert_exporter": "python",
   "pygments_lexer": "ipython3",
   "version": "3.11.8"
  }
 },
 "nbformat": 4,
 "nbformat_minor": 5
}
